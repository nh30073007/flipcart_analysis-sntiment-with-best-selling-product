{
 "cells": [
  {
   "cell_type": "code",
   "execution_count": 2,
   "id": "1448bfcc",
   "metadata": {},
   "outputs": [
    {
     "name": "stderr",
     "output_type": "stream",
     "text": [
      "[nltk_data] Downloading package vader_lexicon to\n",
      "[nltk_data]     C:\\Users\\nh013\\AppData\\Roaming\\nltk_data...\n",
      "[nltk_data]   Package vader_lexicon is already up-to-date!\n",
      "[nltk_data] Downloading package stopwords to\n",
      "[nltk_data]     C:\\Users\\nh013\\AppData\\Roaming\\nltk_data...\n",
      "[nltk_data]   Package stopwords is already up-to-date!\n"
     ]
    },
    {
     "name": "stdout",
     "output_type": "stream",
     "text": [
      "Accuracy: 0.9046136653895275\n",
      "                                        product_name  product_price  \\\n",
      "0  cello Pack of 18 Opalware Cello Dazzle Lush Fi...         1299.0   \n",
      "1  Lakm?? Eyeconic Kajal Twin Pack??????????(Deep...          218.0   \n",
      "2  Mi 5A 80 cm (32 inch) HD Ready LED Smart Andro...        13999.0   \n",
      "3  Singer FM 1409 Electric Sewing MachineÐÒ?ÐÓ...         8499.0   \n",
      "4  Canon EOS 3000D DSLR Camera 1 Camera Body, 18 ...        30999.0   \n",
      "\n",
      "   Sentiment  Sentiment_Polarity  Review Count  Average_Rate  \n",
      "0        0.0            0.245098          4362      4.270518  \n",
      "1        0.0            0.255085          2805      4.475223  \n",
      "2        0.0            0.231171          2122      4.131951  \n",
      "3        0.0            0.244624          1743      4.324727  \n",
      "4        0.0            0.249800          1646      4.453827  \n",
      "                                            product_name  product_price  Rate  \\\n",
      "0      SAMSUNG 253 L Frost Free Double Door 3 Star Re...        24490.0   5.0   \n",
      "1      Flipkart SmartBuy CFXB18 Electric Rice Cooker?...         1599.0   3.0   \n",
      "2      Thomson Alpha 80 cm (32 inch) HD Ready LED Sma...         7999.0   4.0   \n",
      "3      SAMSUNG 253 L Frost Free Double Door 3 Star Re...        24490.0   5.0   \n",
      "4      MarQ by Flipkart 18-Litre 18L1200W4HL Oven Toa...         2499.0   5.0   \n",
      "...                                                  ...            ...   ...   \n",
      "62631  Butterfly Rapid Plus 750 W Mixer Grinder (5 Ja...         3399.0   3.0   \n",
      "62632        Men Regular Fit Black Cotton Blend Trousers          409.0   2.0   \n",
      "62633  cello Pack of 18 Opalware Cello Dazzle Lush Fi...         1299.0   5.0   \n",
      "62634  HAIR & CARE Triple Blend Damage Repair Non-Sti...          113.0   5.0   \n",
      "62635  Mi 3i 10000 mAh Power Bank (Fast Charging, 18W...         1149.0   5.0   \n",
      "\n",
      "                     Review  \\\n",
      "0             simpli awesom   \n",
      "1                       job   \n",
      "2      good qualiti product   \n",
      "3             great product   \n",
      "4            classi product   \n",
      "...                     ...   \n",
      "62631                  okay   \n",
      "62632               specifi   \n",
      "62633                 fabul   \n",
      "62634        classi product   \n",
      "62635      highli recommend   \n",
      "\n",
      "                                                 Summary  Sentiment  \\\n",
      "0      great fridge for 56 family member equipment is...          0   \n",
      "1                                            its just ok          0   \n",
      "2      best offers for smart tv flipkart thanksss no ...          0   \n",
      "3         genuine productone of the good brands in india          0   \n",
      "4                                      excellent prdouct          0   \n",
      "...                                                  ...        ...   \n",
      "62631                                              super          0   \n",
      "62632                              packaging is very bad          0   \n",
      "62633                                     good product 1          0   \n",
      "62634                                               best          0   \n",
      "62635                                       good product          0   \n",
      "\n",
      "       Sentiment_Polarity  \n",
      "0                     0.0  \n",
      "1                     0.0  \n",
      "2                     0.7  \n",
      "3                     0.8  \n",
      "4                     0.0  \n",
      "...                   ...  \n",
      "62631                 0.5  \n",
      "62632                 0.0  \n",
      "62633                 0.0  \n",
      "62634                 0.0  \n",
      "62635                 0.0  \n",
      "\n",
      "[62636 rows x 7 columns]\n"
     ]
    },
    {
     "data": {
      "application/vnd.plotly.v1+json": {
       "config": {
        "plotlyServerURL": "https://plot.ly"
       },
       "data": [
        {
         "alignmentgroup": "True",
         "hovertemplate": "product_name=%{x}<br>Review Count=%{y}<br>Sentiment=%{marker.color}<extra></extra>",
         "legendgroup": "",
         "marker": {
          "color": [
           0,
           0,
           0,
           0,
           0,
           0,
           0,
           0,
           0,
           0,
           0,
           0,
           0,
           0,
           0,
           0,
           0,
           0,
           0,
           0,
           0,
           0,
           0,
           0,
           0,
           0,
           0,
           0,
           0,
           0,
           0,
           0,
           0,
           0,
           0,
           0,
           0,
           0,
           0,
           0,
           0,
           0,
           0,
           0,
           0,
           0,
           0,
           0,
           0,
           0
          ],
          "coloraxis": "coloraxis",
          "pattern": {
           "shape": ""
          }
         },
         "name": "",
         "offsetgroup": "",
         "orientation": "v",
         "showlegend": false,
         "textposition": "auto",
         "type": "bar",
         "x": [
          "cello Pack of 18 Opalware Cello Dazzle Lush Fiesta Opalware Dinner Set, 18 Pieces Dinner SetÃÂ ÃÂ (White, Microwave Safe)",
          "Lakm?? Eyeconic Kajal Twin Pack??????????(Deep Black, 0.7 g)",
          "Mi 5A 80 cm (32 inch) HD Ready LED Smart Android TV with Dolby Audio (2022 Model)",
          "Singer FM 1409 Electric Sewing MachineÐÒ?ÐÓ®ÐÂ ÐÒ?ÐÓ®ÐÂ ( Built-in Stitches 9)",
          "Canon EOS 3000D DSLR Camera 1 Camera Body, 18 - 55 mm Lens????????(Black)",
          "cello Pack of 18 Opalware Cello Dazzle Lush Fiesta Opalware Dinner Set 18 Pieces Dinner SetWhite Microwave Safe",
          "NIVIA Storm Football - Size: 5ÐÓ®ÐÂ ÐÓ®ÐÂ (Pack of 1, Multicolor)",
          "POCO C31 (Royal Blue, 64 GB)?ÐÒÐÒ?ÐÒÐÒ(4 GB RAM)",
          "DOMS Pencil Smart Kit",
          "Google Nest Mini (2nd Gen) with Google Assistant Smart Speaker??????(Chalk)",
          "Mi 3i 10000 mAh Power Bank (Fast Charging, 18W)ÐÒ?ÐÓ®ÐÂ ÐÒ?ÐÓ®ÐÂ (Blue, Lithium Polymer)",
          "MILTON Thermosteel Flip Lid 500 ml FlaskPack of 1 Silver Steel",
          "CMerchants Multi Organiser BLue4 Book Shelf Metal Open Book ShelfFinish Color  BLUE DIYDoItYourself",
          "Home Sizzler 153 cm 502 ft Polyester Room Darkening Window Curtain Pack Of 2Floral Brown",
          "Pigeon Favourite Electric Kettle??????(1.5 L, Silver, Black)",
          "SAMSUNG 253 L Frost Free Double Door 3 Star RefrigeratorÐÒ?ÐÓ®ÐÂ ÐÒ?ÐÓ®ÐÂ (Elegant Inox, RT28A3453S8/HL)",
          "AGARO Regal Hand-held Vacuum CleanerÐÒ?ÐÓ®ÐÂ ÐÒ?ÐÓ®ÐÂ (Black)",
          "LA VERNE Microfibre Stripes Cushion Pack of 3White",
          "MarQ by Flipkart 18-Litre 18L1200W4HL Oven Toaster Grill (OTG) with 4 Skewers and Crumb TrayÐÓ®ÐÂ ÐÓ®ÐÂ (Black)",
          "BAJAJ 15 L Storage Water Geyser (Popular Plus 15 L, White)",
          "SAMSUNG EVO Plus 64 GB MicroSDXC Class 10 95 MBs  Memory CardWith Adapter",
          "Lakm?? Eyeconic Kajal Twin Pack??????(Deep Black, 0.7 g)",
          "HAIR & CARE Triple Blend Damage Repair Non-Sticky Hair Oil with Aloe Vera, For Dry, Rough, & Frizzy Hair, Hair OilÐÓ®ÐÂ ÐÓ®ÐÂ (400 ml)",
          "Bajaj DX 2 LW Dry Iron",
          "boAt Wave Neo with 1.69 inch , 2.5D Curved Display & Multiple Sports Modes SmartwatchÐÒ?ÐÓ®ÐÂ ÐÒ?ÐÓ®ÐÂ (Burgundy Strap, Free Size)",
          "PHILIPS MMS8085B/94 Convertible 80 W Bluetooth Home TheatreÐÓ®ÐÂ ÐÓ®ÐÂ (Black, 2.1 Channel)",
          "RIAN Animal Single Mink Blanket for  Mild WinterPolyester Brown Grey",
          "Crompton 75 L Desert Air Cooler??????(White, Teal, ACGC-DAC751)",
          "Thomson Alpha 80 cm (32 inch) HD Ready LED Smart Linux TV with 30 W Sound Output & Bezel-Less DesignÐÒ?ÐÓ®ÐÂ ÐÒ?ÐÓ®ÐÂ (32Alpha007BL)",
          "APPLE iPad (9th Gen) 64 GB ROM 10.2 inch with Wi-Fi Only (Space Grey)",
          "VICTORY Professional Wrist Wrap Band , Wrist Strap For Gym and Fitness Wrist Support",
          "Men Regular Fit Black Cotton Blend Trousers",
          "boAt Rockerz 510 Super Extra Bass Bluetooth Headset??????(Molten Orange, On the Ear)",
          "BAJAJ Crest Neo 1200 mm 3 Blade Ceiling Fan??????????(White, Pack of 1)",
          "SportSoul Cotton Gym & Athletic Abdomen Support??????(Grey, Black)",
          "Butterfly Rapid Plus 750 W Mixer Grinder (5 Jars, Ink Blue)",
          "ENVY Combo Perfume For Men 60ML + 60ML Eau de Parfum  -  120 ml??????(For Men)",
          "Seagate One Touch with Password Protection for Windows & Mac with 3 years Data Recovery Services - Portable 2 TB External Hard Disk Drive (HDD)??????????(Light Blue)",
          "Prestige Plus Atlas 750 W Juicer Mixer Grinder (4 Jars, Blue, White)",
          "Flipkart SmartBuy CFXB18 Electric Rice Cooker??????(1.8 L, White, Blue)",
          "Tanunni Mobile Holder Mobile Holder",
          "APPLE 2020 Macbook Air M1 - (8 GB/256 GB SSD/Mac OS Big Sur) MGN93HN/AÐÒ?ÐÓ®ÐÂ ÐÒ?ÐÓ®ÐÂ (13.3 inch, Silver, 1.29 kg)",
          "TP-Link Archer C20 AC WiFi 750 MBPS Wireless Router?ÐÒÐÒ?ÐÒÐÒ(Blue, Dual Band)",
          "MAHARAJA WHITELINE 65 L Desert Air Cooler??????(White, Grey, Rambo Grey / AC-303)",
          "Catvision CSR-401HP WIFI Media Streaming Device????(Black)",
          "cello ColourUp Hobby Bag of Assorted Stationery|Crayons, Sketch Pens, Oil Pastel, Gel pens, Mechanical Pencils, Clay with Kids Activity Book inside",
          "Bajaj GX1 500 W Mixer Grinder",
          "Bella vita organic Luxury Unisex Perfume Gift Set For Men & Women- 4x20 ML Eau de Parfum  -  80 ml??????(For Men & Women)",
          "Dettol Effective Protection Antiseptic LiquidÐÓ®ÐÂ ÐÓ®ÐÂ (1000 ml)",
          "Mivi Fort S24 Soundbar with FM Mode and 2 full range drivers, Made in India 24 W Bluetooth SoundbarÐÒ?ÐÓ®ÐÂ ÐÒ?ÐÓ®ÐÂ (Black, 2.0 Channel)"
         ],
         "xaxis": "x",
         "y": [
          4362,
          2805,
          2122,
          1743,
          1646,
          1642,
          1613,
          1569,
          1545,
          1509,
          1506,
          1480,
          1475,
          1440,
          1439,
          1436,
          1414,
          1399,
          1395,
          1377,
          1376,
          1363,
          1347,
          1305,
          1290,
          1136,
          1128,
          1101,
          1044,
          1001,
          975,
          936,
          900,
          883,
          876,
          840,
          839,
          825,
          775,
          760,
          751,
          744,
          744,
          743,
          721,
          690,
          668,
          661,
          655,
          642
         ],
         "yaxis": "y"
        }
       ],
       "layout": {
        "barmode": "group",
        "coloraxis": {
         "colorbar": {
          "title": {
           "text": "Sentiment"
          }
         },
         "colorscale": [
          [
           0,
           "#0d0887"
          ],
          [
           0.1111111111111111,
           "#46039f"
          ],
          [
           0.2222222222222222,
           "#7201a8"
          ],
          [
           0.3333333333333333,
           "#9c179e"
          ],
          [
           0.4444444444444444,
           "#bd3786"
          ],
          [
           0.5555555555555556,
           "#d8576b"
          ],
          [
           0.6666666666666666,
           "#ed7953"
          ],
          [
           0.7777777777777778,
           "#fb9f3a"
          ],
          [
           0.8888888888888888,
           "#fdca26"
          ],
          [
           1,
           "#f0f921"
          ]
         ]
        },
        "legend": {
         "title": {
          "text": "Sentiment"
         },
         "tracegroupgap": 0
        },
        "margin": {
         "t": 60
        },
        "template": {
         "data": {
          "bar": [
           {
            "error_x": {
             "color": "#2a3f5f"
            },
            "error_y": {
             "color": "#2a3f5f"
            },
            "marker": {
             "line": {
              "color": "#E5ECF6",
              "width": 0.5
             },
             "pattern": {
              "fillmode": "overlay",
              "size": 10,
              "solidity": 0.2
             }
            },
            "type": "bar"
           }
          ],
          "barpolar": [
           {
            "marker": {
             "line": {
              "color": "#E5ECF6",
              "width": 0.5
             },
             "pattern": {
              "fillmode": "overlay",
              "size": 10,
              "solidity": 0.2
             }
            },
            "type": "barpolar"
           }
          ],
          "carpet": [
           {
            "aaxis": {
             "endlinecolor": "#2a3f5f",
             "gridcolor": "white",
             "linecolor": "white",
             "minorgridcolor": "white",
             "startlinecolor": "#2a3f5f"
            },
            "baxis": {
             "endlinecolor": "#2a3f5f",
             "gridcolor": "white",
             "linecolor": "white",
             "minorgridcolor": "white",
             "startlinecolor": "#2a3f5f"
            },
            "type": "carpet"
           }
          ],
          "choropleth": [
           {
            "colorbar": {
             "outlinewidth": 0,
             "ticks": ""
            },
            "type": "choropleth"
           }
          ],
          "contour": [
           {
            "colorbar": {
             "outlinewidth": 0,
             "ticks": ""
            },
            "colorscale": [
             [
              0,
              "#0d0887"
             ],
             [
              0.1111111111111111,
              "#46039f"
             ],
             [
              0.2222222222222222,
              "#7201a8"
             ],
             [
              0.3333333333333333,
              "#9c179e"
             ],
             [
              0.4444444444444444,
              "#bd3786"
             ],
             [
              0.5555555555555556,
              "#d8576b"
             ],
             [
              0.6666666666666666,
              "#ed7953"
             ],
             [
              0.7777777777777778,
              "#fb9f3a"
             ],
             [
              0.8888888888888888,
              "#fdca26"
             ],
             [
              1,
              "#f0f921"
             ]
            ],
            "type": "contour"
           }
          ],
          "contourcarpet": [
           {
            "colorbar": {
             "outlinewidth": 0,
             "ticks": ""
            },
            "type": "contourcarpet"
           }
          ],
          "heatmap": [
           {
            "colorbar": {
             "outlinewidth": 0,
             "ticks": ""
            },
            "colorscale": [
             [
              0,
              "#0d0887"
             ],
             [
              0.1111111111111111,
              "#46039f"
             ],
             [
              0.2222222222222222,
              "#7201a8"
             ],
             [
              0.3333333333333333,
              "#9c179e"
             ],
             [
              0.4444444444444444,
              "#bd3786"
             ],
             [
              0.5555555555555556,
              "#d8576b"
             ],
             [
              0.6666666666666666,
              "#ed7953"
             ],
             [
              0.7777777777777778,
              "#fb9f3a"
             ],
             [
              0.8888888888888888,
              "#fdca26"
             ],
             [
              1,
              "#f0f921"
             ]
            ],
            "type": "heatmap"
           }
          ],
          "heatmapgl": [
           {
            "colorbar": {
             "outlinewidth": 0,
             "ticks": ""
            },
            "colorscale": [
             [
              0,
              "#0d0887"
             ],
             [
              0.1111111111111111,
              "#46039f"
             ],
             [
              0.2222222222222222,
              "#7201a8"
             ],
             [
              0.3333333333333333,
              "#9c179e"
             ],
             [
              0.4444444444444444,
              "#bd3786"
             ],
             [
              0.5555555555555556,
              "#d8576b"
             ],
             [
              0.6666666666666666,
              "#ed7953"
             ],
             [
              0.7777777777777778,
              "#fb9f3a"
             ],
             [
              0.8888888888888888,
              "#fdca26"
             ],
             [
              1,
              "#f0f921"
             ]
            ],
            "type": "heatmapgl"
           }
          ],
          "histogram": [
           {
            "marker": {
             "pattern": {
              "fillmode": "overlay",
              "size": 10,
              "solidity": 0.2
             }
            },
            "type": "histogram"
           }
          ],
          "histogram2d": [
           {
            "colorbar": {
             "outlinewidth": 0,
             "ticks": ""
            },
            "colorscale": [
             [
              0,
              "#0d0887"
             ],
             [
              0.1111111111111111,
              "#46039f"
             ],
             [
              0.2222222222222222,
              "#7201a8"
             ],
             [
              0.3333333333333333,
              "#9c179e"
             ],
             [
              0.4444444444444444,
              "#bd3786"
             ],
             [
              0.5555555555555556,
              "#d8576b"
             ],
             [
              0.6666666666666666,
              "#ed7953"
             ],
             [
              0.7777777777777778,
              "#fb9f3a"
             ],
             [
              0.8888888888888888,
              "#fdca26"
             ],
             [
              1,
              "#f0f921"
             ]
            ],
            "type": "histogram2d"
           }
          ],
          "histogram2dcontour": [
           {
            "colorbar": {
             "outlinewidth": 0,
             "ticks": ""
            },
            "colorscale": [
             [
              0,
              "#0d0887"
             ],
             [
              0.1111111111111111,
              "#46039f"
             ],
             [
              0.2222222222222222,
              "#7201a8"
             ],
             [
              0.3333333333333333,
              "#9c179e"
             ],
             [
              0.4444444444444444,
              "#bd3786"
             ],
             [
              0.5555555555555556,
              "#d8576b"
             ],
             [
              0.6666666666666666,
              "#ed7953"
             ],
             [
              0.7777777777777778,
              "#fb9f3a"
             ],
             [
              0.8888888888888888,
              "#fdca26"
             ],
             [
              1,
              "#f0f921"
             ]
            ],
            "type": "histogram2dcontour"
           }
          ],
          "mesh3d": [
           {
            "colorbar": {
             "outlinewidth": 0,
             "ticks": ""
            },
            "type": "mesh3d"
           }
          ],
          "parcoords": [
           {
            "line": {
             "colorbar": {
              "outlinewidth": 0,
              "ticks": ""
             }
            },
            "type": "parcoords"
           }
          ],
          "pie": [
           {
            "automargin": true,
            "type": "pie"
           }
          ],
          "scatter": [
           {
            "fillpattern": {
             "fillmode": "overlay",
             "size": 10,
             "solidity": 0.2
            },
            "type": "scatter"
           }
          ],
          "scatter3d": [
           {
            "line": {
             "colorbar": {
              "outlinewidth": 0,
              "ticks": ""
             }
            },
            "marker": {
             "colorbar": {
              "outlinewidth": 0,
              "ticks": ""
             }
            },
            "type": "scatter3d"
           }
          ],
          "scattercarpet": [
           {
            "marker": {
             "colorbar": {
              "outlinewidth": 0,
              "ticks": ""
             }
            },
            "type": "scattercarpet"
           }
          ],
          "scattergeo": [
           {
            "marker": {
             "colorbar": {
              "outlinewidth": 0,
              "ticks": ""
             }
            },
            "type": "scattergeo"
           }
          ],
          "scattergl": [
           {
            "marker": {
             "colorbar": {
              "outlinewidth": 0,
              "ticks": ""
             }
            },
            "type": "scattergl"
           }
          ],
          "scattermapbox": [
           {
            "marker": {
             "colorbar": {
              "outlinewidth": 0,
              "ticks": ""
             }
            },
            "type": "scattermapbox"
           }
          ],
          "scatterpolar": [
           {
            "marker": {
             "colorbar": {
              "outlinewidth": 0,
              "ticks": ""
             }
            },
            "type": "scatterpolar"
           }
          ],
          "scatterpolargl": [
           {
            "marker": {
             "colorbar": {
              "outlinewidth": 0,
              "ticks": ""
             }
            },
            "type": "scatterpolargl"
           }
          ],
          "scatterternary": [
           {
            "marker": {
             "colorbar": {
              "outlinewidth": 0,
              "ticks": ""
             }
            },
            "type": "scatterternary"
           }
          ],
          "surface": [
           {
            "colorbar": {
             "outlinewidth": 0,
             "ticks": ""
            },
            "colorscale": [
             [
              0,
              "#0d0887"
             ],
             [
              0.1111111111111111,
              "#46039f"
             ],
             [
              0.2222222222222222,
              "#7201a8"
             ],
             [
              0.3333333333333333,
              "#9c179e"
             ],
             [
              0.4444444444444444,
              "#bd3786"
             ],
             [
              0.5555555555555556,
              "#d8576b"
             ],
             [
              0.6666666666666666,
              "#ed7953"
             ],
             [
              0.7777777777777778,
              "#fb9f3a"
             ],
             [
              0.8888888888888888,
              "#fdca26"
             ],
             [
              1,
              "#f0f921"
             ]
            ],
            "type": "surface"
           }
          ],
          "table": [
           {
            "cells": {
             "fill": {
              "color": "#EBF0F8"
             },
             "line": {
              "color": "white"
             }
            },
            "header": {
             "fill": {
              "color": "#C8D4E3"
             },
             "line": {
              "color": "white"
             }
            },
            "type": "table"
           }
          ]
         },
         "layout": {
          "annotationdefaults": {
           "arrowcolor": "#2a3f5f",
           "arrowhead": 0,
           "arrowwidth": 1
          },
          "autotypenumbers": "strict",
          "coloraxis": {
           "colorbar": {
            "outlinewidth": 0,
            "ticks": ""
           }
          },
          "colorscale": {
           "diverging": [
            [
             0,
             "#8e0152"
            ],
            [
             0.1,
             "#c51b7d"
            ],
            [
             0.2,
             "#de77ae"
            ],
            [
             0.3,
             "#f1b6da"
            ],
            [
             0.4,
             "#fde0ef"
            ],
            [
             0.5,
             "#f7f7f7"
            ],
            [
             0.6,
             "#e6f5d0"
            ],
            [
             0.7,
             "#b8e186"
            ],
            [
             0.8,
             "#7fbc41"
            ],
            [
             0.9,
             "#4d9221"
            ],
            [
             1,
             "#276419"
            ]
           ],
           "sequential": [
            [
             0,
             "#0d0887"
            ],
            [
             0.1111111111111111,
             "#46039f"
            ],
            [
             0.2222222222222222,
             "#7201a8"
            ],
            [
             0.3333333333333333,
             "#9c179e"
            ],
            [
             0.4444444444444444,
             "#bd3786"
            ],
            [
             0.5555555555555556,
             "#d8576b"
            ],
            [
             0.6666666666666666,
             "#ed7953"
            ],
            [
             0.7777777777777778,
             "#fb9f3a"
            ],
            [
             0.8888888888888888,
             "#fdca26"
            ],
            [
             1,
             "#f0f921"
            ]
           ],
           "sequentialminus": [
            [
             0,
             "#0d0887"
            ],
            [
             0.1111111111111111,
             "#46039f"
            ],
            [
             0.2222222222222222,
             "#7201a8"
            ],
            [
             0.3333333333333333,
             "#9c179e"
            ],
            [
             0.4444444444444444,
             "#bd3786"
            ],
            [
             0.5555555555555556,
             "#d8576b"
            ],
            [
             0.6666666666666666,
             "#ed7953"
            ],
            [
             0.7777777777777778,
             "#fb9f3a"
            ],
            [
             0.8888888888888888,
             "#fdca26"
            ],
            [
             1,
             "#f0f921"
            ]
           ]
          },
          "colorway": [
           "#636efa",
           "#EF553B",
           "#00cc96",
           "#ab63fa",
           "#FFA15A",
           "#19d3f3",
           "#FF6692",
           "#B6E880",
           "#FF97FF",
           "#FECB52"
          ],
          "font": {
           "color": "#2a3f5f"
          },
          "geo": {
           "bgcolor": "white",
           "lakecolor": "white",
           "landcolor": "#E5ECF6",
           "showlakes": true,
           "showland": true,
           "subunitcolor": "white"
          },
          "hoverlabel": {
           "align": "left"
          },
          "hovermode": "closest",
          "mapbox": {
           "style": "light"
          },
          "paper_bgcolor": "white",
          "plot_bgcolor": "#E5ECF6",
          "polar": {
           "angularaxis": {
            "gridcolor": "white",
            "linecolor": "white",
            "ticks": ""
           },
           "bgcolor": "#E5ECF6",
           "radialaxis": {
            "gridcolor": "white",
            "linecolor": "white",
            "ticks": ""
           }
          },
          "scene": {
           "xaxis": {
            "backgroundcolor": "#E5ECF6",
            "gridcolor": "white",
            "gridwidth": 2,
            "linecolor": "white",
            "showbackground": true,
            "ticks": "",
            "zerolinecolor": "white"
           },
           "yaxis": {
            "backgroundcolor": "#E5ECF6",
            "gridcolor": "white",
            "gridwidth": 2,
            "linecolor": "white",
            "showbackground": true,
            "ticks": "",
            "zerolinecolor": "white"
           },
           "zaxis": {
            "backgroundcolor": "#E5ECF6",
            "gridcolor": "white",
            "gridwidth": 2,
            "linecolor": "white",
            "showbackground": true,
            "ticks": "",
            "zerolinecolor": "white"
           }
          },
          "shapedefaults": {
           "line": {
            "color": "#2a3f5f"
           }
          },
          "ternary": {
           "aaxis": {
            "gridcolor": "white",
            "linecolor": "white",
            "ticks": ""
           },
           "baxis": {
            "gridcolor": "white",
            "linecolor": "white",
            "ticks": ""
           },
           "bgcolor": "#E5ECF6",
           "caxis": {
            "gridcolor": "white",
            "linecolor": "white",
            "ticks": ""
           }
          },
          "title": {
           "x": 0.05
          },
          "xaxis": {
           "automargin": true,
           "gridcolor": "white",
           "linecolor": "white",
           "ticks": "",
           "title": {
            "standoff": 15
           },
           "zerolinecolor": "white",
           "zerolinewidth": 2
          },
          "yaxis": {
           "automargin": true,
           "gridcolor": "white",
           "linecolor": "white",
           "ticks": "",
           "title": {
            "standoff": 15
           },
           "zerolinecolor": "white",
           "zerolinewidth": 2
          }
         }
        },
        "title": {
         "text": "Sentiment vs Review Count"
        },
        "xaxis": {
         "anchor": "y",
         "domain": [
          0,
          1
         ],
         "title": {
          "text": "Product Name"
         }
        },
        "yaxis": {
         "anchor": "x",
         "domain": [
          0,
          1
         ],
         "title": {
          "text": "Review Count"
         }
        }
       }
      },
      "text/html": [
       "<div>                            <div id=\"e6546ef7-12a8-47af-8642-dc9832f02425\" class=\"plotly-graph-div\" style=\"height:525px; width:100%;\"></div>            <script type=\"text/javascript\">                require([\"plotly\"], function(Plotly) {                    window.PLOTLYENV=window.PLOTLYENV || {};                                    if (document.getElementById(\"e6546ef7-12a8-47af-8642-dc9832f02425\")) {                    Plotly.newPlot(                        \"e6546ef7-12a8-47af-8642-dc9832f02425\",                        [{\"alignmentgroup\":\"True\",\"hovertemplate\":\"product_name=%{x}<br>Review Count=%{y}<br>Sentiment=%{marker.color}<extra></extra>\",\"legendgroup\":\"\",\"marker\":{\"color\":[0.0,0.0,0.0,0.0,0.0,0.0,0.0,0.0,0.0,0.0,0.0,0.0,0.0,0.0,0.0,0.0,0.0,0.0,0.0,0.0,0.0,0.0,0.0,0.0,0.0,0.0,0.0,0.0,0.0,0.0,0.0,0.0,0.0,0.0,0.0,0.0,0.0,0.0,0.0,0.0,0.0,0.0,0.0,0.0,0.0,0.0,0.0,0.0,0.0,0.0],\"coloraxis\":\"coloraxis\",\"pattern\":{\"shape\":\"\"}},\"name\":\"\",\"offsetgroup\":\"\",\"orientation\":\"v\",\"showlegend\":false,\"textposition\":\"auto\",\"x\":[\"cello Pack of 18 Opalware Cello Dazzle Lush Fiesta Opalware Dinner Set, 18 Pieces Dinner Set\\u00c3\\u0082\\u00c2\\u00a0\\u00c3\\u0082\\u00c2\\u00a0(White, Microwave Safe)\",\"Lakm?? Eyeconic Kajal Twin Pack??????????(Deep Black, 0.7 g)\",\"Mi 5A 80 cm (32 inch) HD Ready LED Smart Android TV with Dolby Audio (2022 Model)\",\"Singer FM 1409 Electric Sewing Machine\\u00d0\\u0093\\u00d2\\u0093?\\u00d0\\u0093\\u00d3\\u00ae\\u00d0\\u0092\\u00c2\\u00a0\\u00d0\\u0093\\u00d2\\u0093?\\u00d0\\u0093\\u00d3\\u00ae\\u00d0\\u0092\\u00c2\\u00a0( Built-in Stitches 9)\",\"Canon EOS 3000D DSLR Camera 1 Camera Body, 18 - 55 mm Lens????????(Black)\",\"cello Pack of 18 Opalware Cello Dazzle Lush Fiesta Opalware Dinner Set 18 Pieces Dinner SetWhite Microwave Safe\",\"NIVIA Storm Football - Size: 5\\u00d0\\u0093\\u00d3\\u00ae\\u00d0\\u0092\\u00c2\\u00a0\\u00d0\\u0093\\u00d3\\u00ae\\u00d0\\u0092\\u00c2\\u00a0(Pack of 1, Multicolor)\",\"POCO C31 (Royal Blue, 64 GB)?\\u00d0\\u0093\\u00d2\\u0093\\u00d0\\u0092\\u00d2\\u009d?\\u00d0\\u0093\\u00d2\\u0093\\u00d0\\u0092\\u00d2\\u009d(4 GB RAM)\",\"DOMS Pencil Smart Kit\",\"Google Nest Mini (2nd Gen) with Google Assistant Smart Speaker??????(Chalk)\",\"Mi 3i 10000 mAh Power Bank (Fast Charging, 18W)\\u00d0\\u0093\\u00d2\\u0093?\\u00d0\\u0093\\u00d3\\u00ae\\u00d0\\u0092\\u00c2\\u00a0\\u00d0\\u0093\\u00d2\\u0093?\\u00d0\\u0093\\u00d3\\u00ae\\u00d0\\u0092\\u00c2\\u00a0(Blue, Lithium Polymer)\",\"MILTON Thermosteel Flip Lid 500 ml FlaskPack of 1 Silver Steel\",\"CMerchants Multi Organiser BLue4 Book Shelf Metal Open Book ShelfFinish Color  BLUE DIYDoItYourself\",\"Home Sizzler 153 cm 502 ft Polyester Room Darkening Window Curtain Pack Of 2Floral Brown\",\"Pigeon Favourite Electric Kettle??????(1.5 L, Silver, Black)\",\"SAMSUNG 253 L Frost Free Double Door 3 Star Refrigerator\\u00d0\\u0093\\u00d2\\u0093?\\u00d0\\u0093\\u00d3\\u00ae\\u00d0\\u0092\\u00c2\\u00a0\\u00d0\\u0093\\u00d2\\u0093?\\u00d0\\u0093\\u00d3\\u00ae\\u00d0\\u0092\\u00c2\\u00a0(Elegant Inox, RT28A3453S8/HL)\",\"AGARO Regal Hand-held Vacuum Cleaner\\u00d0\\u0093\\u00d2\\u0093?\\u00d0\\u0093\\u00d3\\u00ae\\u00d0\\u0092\\u00c2\\u00a0\\u00d0\\u0093\\u00d2\\u0093?\\u00d0\\u0093\\u00d3\\u00ae\\u00d0\\u0092\\u00c2\\u00a0(Black)\",\"LA VERNE Microfibre Stripes Cushion Pack of 3White\",\"MarQ by Flipkart 18-Litre 18L1200W4HL Oven Toaster Grill (OTG) with 4 Skewers and Crumb Tray\\u00d0\\u0093\\u00d3\\u00ae\\u00d0\\u0092\\u00c2\\u00a0\\u00d0\\u0093\\u00d3\\u00ae\\u00d0\\u0092\\u00c2\\u00a0(Black)\",\"BAJAJ 15 L Storage Water Geyser (Popular Plus 15 L, White)\",\"SAMSUNG EVO Plus 64 GB MicroSDXC Class 10 95 MBs  Memory CardWith Adapter\",\"Lakm?? Eyeconic Kajal Twin Pack??????(Deep Black, 0.7 g)\",\"HAIR & CARE Triple Blend Damage Repair Non-Sticky Hair Oil with Aloe Vera, For Dry, Rough, & Frizzy Hair, Hair Oil\\u00d0\\u0093\\u00d3\\u00ae\\u00d0\\u0092\\u00c2\\u00a0\\u00d0\\u0093\\u00d3\\u00ae\\u00d0\\u0092\\u00c2\\u00a0(400 ml)\",\"Bajaj DX 2 LW Dry Iron\",\"boAt Wave Neo with 1.69 inch , 2.5D Curved Display & Multiple Sports Modes Smartwatch\\u00d0\\u0093\\u00d2\\u0093?\\u00d0\\u0093\\u00d3\\u00ae\\u00d0\\u0092\\u00c2\\u00a0\\u00d0\\u0093\\u00d2\\u0093?\\u00d0\\u0093\\u00d3\\u00ae\\u00d0\\u0092\\u00c2\\u00a0(Burgundy Strap, Free Size)\",\"PHILIPS MMS8085B/94 Convertible 80 W Bluetooth Home Theatre\\u00d0\\u0093\\u00d3\\u00ae\\u00d0\\u0092\\u00c2\\u00a0\\u00d0\\u0093\\u00d3\\u00ae\\u00d0\\u0092\\u00c2\\u00a0(Black, 2.1 Channel)\",\"RIAN Animal Single Mink Blanket for  Mild WinterPolyester Brown Grey\",\"Crompton 75 L Desert Air Cooler??????(White, Teal, ACGC-DAC751)\",\"Thomson Alpha 80 cm (32 inch) HD Ready LED Smart Linux TV with 30 W Sound Output & Bezel-Less Design\\u00d0\\u0093\\u00d2\\u0093?\\u00d0\\u0093\\u00d3\\u00ae\\u00d0\\u0092\\u00c2\\u00a0\\u00d0\\u0093\\u00d2\\u0093?\\u00d0\\u0093\\u00d3\\u00ae\\u00d0\\u0092\\u00c2\\u00a0(32Alpha007BL)\",\"APPLE iPad (9th Gen) 64 GB ROM 10.2 inch with Wi-Fi Only (Space Grey)\",\"VICTORY Professional Wrist Wrap Band , Wrist Strap For Gym and Fitness Wrist Support\",\"Men Regular Fit Black Cotton Blend Trousers\",\"boAt Rockerz 510 Super Extra Bass Bluetooth Headset??????(Molten Orange, On the Ear)\",\"BAJAJ Crest Neo 1200 mm 3 Blade Ceiling Fan??????????(White, Pack of 1)\",\"SportSoul Cotton Gym & Athletic Abdomen Support??????(Grey, Black)\",\"Butterfly Rapid Plus 750 W Mixer Grinder (5 Jars, Ink Blue)\",\"ENVY Combo Perfume For Men 60ML + 60ML Eau de Parfum  -  120 ml??????(For Men)\",\"Seagate One Touch with Password Protection for Windows & Mac with 3 years Data Recovery Services - Portable 2 TB External Hard Disk Drive (HDD)??????????(Light Blue)\",\"Prestige Plus Atlas 750 W Juicer Mixer Grinder (4 Jars, Blue, White)\",\"Flipkart SmartBuy CFXB18 Electric Rice Cooker??????(1.8 L, White, Blue)\",\"Tanunni Mobile Holder Mobile Holder\",\"APPLE 2020 Macbook Air M1 - (8 GB/256 GB SSD/Mac OS Big Sur) MGN93HN/A\\u00d0\\u0093\\u00d2\\u0093?\\u00d0\\u0093\\u00d3\\u00ae\\u00d0\\u0092\\u00c2\\u00a0\\u00d0\\u0093\\u00d2\\u0093?\\u00d0\\u0093\\u00d3\\u00ae\\u00d0\\u0092\\u00c2\\u00a0(13.3 inch, Silver, 1.29 kg)\",\"TP-Link Archer C20 AC WiFi 750 MBPS Wireless Router?\\u00d0\\u0093\\u00d2\\u0093\\u00d0\\u0092\\u00d2\\u009d?\\u00d0\\u0093\\u00d2\\u0093\\u00d0\\u0092\\u00d2\\u009d(Blue, Dual Band)\",\"MAHARAJA WHITELINE 65 L Desert Air Cooler??????(White, Grey, Rambo Grey / AC-303)\",\"Catvision CSR-401HP WIFI Media Streaming Device????(Black)\",\"cello ColourUp Hobby Bag of Assorted Stationery|Crayons, Sketch Pens, Oil Pastel, Gel pens, Mechanical Pencils, Clay with Kids Activity Book inside\",\"Bajaj GX1 500 W Mixer Grinder\",\"Bella vita organic Luxury Unisex Perfume Gift Set For Men & Women- 4x20 ML Eau de Parfum  -  80 ml??????(For Men & Women)\",\"Dettol Effective Protection Antiseptic Liquid\\u00d0\\u0093\\u00d3\\u00ae\\u00d0\\u0092\\u00c2\\u00a0\\u00d0\\u0093\\u00d3\\u00ae\\u00d0\\u0092\\u00c2\\u00a0(1000 ml)\",\"Mivi Fort S24 Soundbar with FM Mode and 2 full range drivers, Made in India 24 W Bluetooth Soundbar\\u00d0\\u0093\\u00d2\\u0093?\\u00d0\\u0093\\u00d3\\u00ae\\u00d0\\u0092\\u00c2\\u00a0\\u00d0\\u0093\\u00d2\\u0093?\\u00d0\\u0093\\u00d3\\u00ae\\u00d0\\u0092\\u00c2\\u00a0(Black, 2.0 Channel)\"],\"xaxis\":\"x\",\"y\":[4362,2805,2122,1743,1646,1642,1613,1569,1545,1509,1506,1480,1475,1440,1439,1436,1414,1399,1395,1377,1376,1363,1347,1305,1290,1136,1128,1101,1044,1001,975,936,900,883,876,840,839,825,775,760,751,744,744,743,721,690,668,661,655,642],\"yaxis\":\"y\",\"type\":\"bar\"}],                        {\"template\":{\"data\":{\"histogram2dcontour\":[{\"type\":\"histogram2dcontour\",\"colorbar\":{\"outlinewidth\":0,\"ticks\":\"\"},\"colorscale\":[[0.0,\"#0d0887\"],[0.1111111111111111,\"#46039f\"],[0.2222222222222222,\"#7201a8\"],[0.3333333333333333,\"#9c179e\"],[0.4444444444444444,\"#bd3786\"],[0.5555555555555556,\"#d8576b\"],[0.6666666666666666,\"#ed7953\"],[0.7777777777777778,\"#fb9f3a\"],[0.8888888888888888,\"#fdca26\"],[1.0,\"#f0f921\"]]}],\"choropleth\":[{\"type\":\"choropleth\",\"colorbar\":{\"outlinewidth\":0,\"ticks\":\"\"}}],\"histogram2d\":[{\"type\":\"histogram2d\",\"colorbar\":{\"outlinewidth\":0,\"ticks\":\"\"},\"colorscale\":[[0.0,\"#0d0887\"],[0.1111111111111111,\"#46039f\"],[0.2222222222222222,\"#7201a8\"],[0.3333333333333333,\"#9c179e\"],[0.4444444444444444,\"#bd3786\"],[0.5555555555555556,\"#d8576b\"],[0.6666666666666666,\"#ed7953\"],[0.7777777777777778,\"#fb9f3a\"],[0.8888888888888888,\"#fdca26\"],[1.0,\"#f0f921\"]]}],\"heatmap\":[{\"type\":\"heatmap\",\"colorbar\":{\"outlinewidth\":0,\"ticks\":\"\"},\"colorscale\":[[0.0,\"#0d0887\"],[0.1111111111111111,\"#46039f\"],[0.2222222222222222,\"#7201a8\"],[0.3333333333333333,\"#9c179e\"],[0.4444444444444444,\"#bd3786\"],[0.5555555555555556,\"#d8576b\"],[0.6666666666666666,\"#ed7953\"],[0.7777777777777778,\"#fb9f3a\"],[0.8888888888888888,\"#fdca26\"],[1.0,\"#f0f921\"]]}],\"heatmapgl\":[{\"type\":\"heatmapgl\",\"colorbar\":{\"outlinewidth\":0,\"ticks\":\"\"},\"colorscale\":[[0.0,\"#0d0887\"],[0.1111111111111111,\"#46039f\"],[0.2222222222222222,\"#7201a8\"],[0.3333333333333333,\"#9c179e\"],[0.4444444444444444,\"#bd3786\"],[0.5555555555555556,\"#d8576b\"],[0.6666666666666666,\"#ed7953\"],[0.7777777777777778,\"#fb9f3a\"],[0.8888888888888888,\"#fdca26\"],[1.0,\"#f0f921\"]]}],\"contourcarpet\":[{\"type\":\"contourcarpet\",\"colorbar\":{\"outlinewidth\":0,\"ticks\":\"\"}}],\"contour\":[{\"type\":\"contour\",\"colorbar\":{\"outlinewidth\":0,\"ticks\":\"\"},\"colorscale\":[[0.0,\"#0d0887\"],[0.1111111111111111,\"#46039f\"],[0.2222222222222222,\"#7201a8\"],[0.3333333333333333,\"#9c179e\"],[0.4444444444444444,\"#bd3786\"],[0.5555555555555556,\"#d8576b\"],[0.6666666666666666,\"#ed7953\"],[0.7777777777777778,\"#fb9f3a\"],[0.8888888888888888,\"#fdca26\"],[1.0,\"#f0f921\"]]}],\"surface\":[{\"type\":\"surface\",\"colorbar\":{\"outlinewidth\":0,\"ticks\":\"\"},\"colorscale\":[[0.0,\"#0d0887\"],[0.1111111111111111,\"#46039f\"],[0.2222222222222222,\"#7201a8\"],[0.3333333333333333,\"#9c179e\"],[0.4444444444444444,\"#bd3786\"],[0.5555555555555556,\"#d8576b\"],[0.6666666666666666,\"#ed7953\"],[0.7777777777777778,\"#fb9f3a\"],[0.8888888888888888,\"#fdca26\"],[1.0,\"#f0f921\"]]}],\"mesh3d\":[{\"type\":\"mesh3d\",\"colorbar\":{\"outlinewidth\":0,\"ticks\":\"\"}}],\"scatter\":[{\"fillpattern\":{\"fillmode\":\"overlay\",\"size\":10,\"solidity\":0.2},\"type\":\"scatter\"}],\"parcoords\":[{\"type\":\"parcoords\",\"line\":{\"colorbar\":{\"outlinewidth\":0,\"ticks\":\"\"}}}],\"scatterpolargl\":[{\"type\":\"scatterpolargl\",\"marker\":{\"colorbar\":{\"outlinewidth\":0,\"ticks\":\"\"}}}],\"bar\":[{\"error_x\":{\"color\":\"#2a3f5f\"},\"error_y\":{\"color\":\"#2a3f5f\"},\"marker\":{\"line\":{\"color\":\"#E5ECF6\",\"width\":0.5},\"pattern\":{\"fillmode\":\"overlay\",\"size\":10,\"solidity\":0.2}},\"type\":\"bar\"}],\"scattergeo\":[{\"type\":\"scattergeo\",\"marker\":{\"colorbar\":{\"outlinewidth\":0,\"ticks\":\"\"}}}],\"scatterpolar\":[{\"type\":\"scatterpolar\",\"marker\":{\"colorbar\":{\"outlinewidth\":0,\"ticks\":\"\"}}}],\"histogram\":[{\"marker\":{\"pattern\":{\"fillmode\":\"overlay\",\"size\":10,\"solidity\":0.2}},\"type\":\"histogram\"}],\"scattergl\":[{\"type\":\"scattergl\",\"marker\":{\"colorbar\":{\"outlinewidth\":0,\"ticks\":\"\"}}}],\"scatter3d\":[{\"type\":\"scatter3d\",\"line\":{\"colorbar\":{\"outlinewidth\":0,\"ticks\":\"\"}},\"marker\":{\"colorbar\":{\"outlinewidth\":0,\"ticks\":\"\"}}}],\"scattermapbox\":[{\"type\":\"scattermapbox\",\"marker\":{\"colorbar\":{\"outlinewidth\":0,\"ticks\":\"\"}}}],\"scatterternary\":[{\"type\":\"scatterternary\",\"marker\":{\"colorbar\":{\"outlinewidth\":0,\"ticks\":\"\"}}}],\"scattercarpet\":[{\"type\":\"scattercarpet\",\"marker\":{\"colorbar\":{\"outlinewidth\":0,\"ticks\":\"\"}}}],\"carpet\":[{\"aaxis\":{\"endlinecolor\":\"#2a3f5f\",\"gridcolor\":\"white\",\"linecolor\":\"white\",\"minorgridcolor\":\"white\",\"startlinecolor\":\"#2a3f5f\"},\"baxis\":{\"endlinecolor\":\"#2a3f5f\",\"gridcolor\":\"white\",\"linecolor\":\"white\",\"minorgridcolor\":\"white\",\"startlinecolor\":\"#2a3f5f\"},\"type\":\"carpet\"}],\"table\":[{\"cells\":{\"fill\":{\"color\":\"#EBF0F8\"},\"line\":{\"color\":\"white\"}},\"header\":{\"fill\":{\"color\":\"#C8D4E3\"},\"line\":{\"color\":\"white\"}},\"type\":\"table\"}],\"barpolar\":[{\"marker\":{\"line\":{\"color\":\"#E5ECF6\",\"width\":0.5},\"pattern\":{\"fillmode\":\"overlay\",\"size\":10,\"solidity\":0.2}},\"type\":\"barpolar\"}],\"pie\":[{\"automargin\":true,\"type\":\"pie\"}]},\"layout\":{\"autotypenumbers\":\"strict\",\"colorway\":[\"#636efa\",\"#EF553B\",\"#00cc96\",\"#ab63fa\",\"#FFA15A\",\"#19d3f3\",\"#FF6692\",\"#B6E880\",\"#FF97FF\",\"#FECB52\"],\"font\":{\"color\":\"#2a3f5f\"},\"hovermode\":\"closest\",\"hoverlabel\":{\"align\":\"left\"},\"paper_bgcolor\":\"white\",\"plot_bgcolor\":\"#E5ECF6\",\"polar\":{\"bgcolor\":\"#E5ECF6\",\"angularaxis\":{\"gridcolor\":\"white\",\"linecolor\":\"white\",\"ticks\":\"\"},\"radialaxis\":{\"gridcolor\":\"white\",\"linecolor\":\"white\",\"ticks\":\"\"}},\"ternary\":{\"bgcolor\":\"#E5ECF6\",\"aaxis\":{\"gridcolor\":\"white\",\"linecolor\":\"white\",\"ticks\":\"\"},\"baxis\":{\"gridcolor\":\"white\",\"linecolor\":\"white\",\"ticks\":\"\"},\"caxis\":{\"gridcolor\":\"white\",\"linecolor\":\"white\",\"ticks\":\"\"}},\"coloraxis\":{\"colorbar\":{\"outlinewidth\":0,\"ticks\":\"\"}},\"colorscale\":{\"sequential\":[[0.0,\"#0d0887\"],[0.1111111111111111,\"#46039f\"],[0.2222222222222222,\"#7201a8\"],[0.3333333333333333,\"#9c179e\"],[0.4444444444444444,\"#bd3786\"],[0.5555555555555556,\"#d8576b\"],[0.6666666666666666,\"#ed7953\"],[0.7777777777777778,\"#fb9f3a\"],[0.8888888888888888,\"#fdca26\"],[1.0,\"#f0f921\"]],\"sequentialminus\":[[0.0,\"#0d0887\"],[0.1111111111111111,\"#46039f\"],[0.2222222222222222,\"#7201a8\"],[0.3333333333333333,\"#9c179e\"],[0.4444444444444444,\"#bd3786\"],[0.5555555555555556,\"#d8576b\"],[0.6666666666666666,\"#ed7953\"],[0.7777777777777778,\"#fb9f3a\"],[0.8888888888888888,\"#fdca26\"],[1.0,\"#f0f921\"]],\"diverging\":[[0,\"#8e0152\"],[0.1,\"#c51b7d\"],[0.2,\"#de77ae\"],[0.3,\"#f1b6da\"],[0.4,\"#fde0ef\"],[0.5,\"#f7f7f7\"],[0.6,\"#e6f5d0\"],[0.7,\"#b8e186\"],[0.8,\"#7fbc41\"],[0.9,\"#4d9221\"],[1,\"#276419\"]]},\"xaxis\":{\"gridcolor\":\"white\",\"linecolor\":\"white\",\"ticks\":\"\",\"title\":{\"standoff\":15},\"zerolinecolor\":\"white\",\"automargin\":true,\"zerolinewidth\":2},\"yaxis\":{\"gridcolor\":\"white\",\"linecolor\":\"white\",\"ticks\":\"\",\"title\":{\"standoff\":15},\"zerolinecolor\":\"white\",\"automargin\":true,\"zerolinewidth\":2},\"scene\":{\"xaxis\":{\"backgroundcolor\":\"#E5ECF6\",\"gridcolor\":\"white\",\"linecolor\":\"white\",\"showbackground\":true,\"ticks\":\"\",\"zerolinecolor\":\"white\",\"gridwidth\":2},\"yaxis\":{\"backgroundcolor\":\"#E5ECF6\",\"gridcolor\":\"white\",\"linecolor\":\"white\",\"showbackground\":true,\"ticks\":\"\",\"zerolinecolor\":\"white\",\"gridwidth\":2},\"zaxis\":{\"backgroundcolor\":\"#E5ECF6\",\"gridcolor\":\"white\",\"linecolor\":\"white\",\"showbackground\":true,\"ticks\":\"\",\"zerolinecolor\":\"white\",\"gridwidth\":2}},\"shapedefaults\":{\"line\":{\"color\":\"#2a3f5f\"}},\"annotationdefaults\":{\"arrowcolor\":\"#2a3f5f\",\"arrowhead\":0,\"arrowwidth\":1},\"geo\":{\"bgcolor\":\"white\",\"landcolor\":\"#E5ECF6\",\"subunitcolor\":\"white\",\"showland\":true,\"showlakes\":true,\"lakecolor\":\"white\"},\"title\":{\"x\":0.05},\"mapbox\":{\"style\":\"light\"}}},\"xaxis\":{\"anchor\":\"y\",\"domain\":[0.0,1.0],\"title\":{\"text\":\"Product Name\"}},\"yaxis\":{\"anchor\":\"x\",\"domain\":[0.0,1.0],\"title\":{\"text\":\"Review Count\"}},\"coloraxis\":{\"colorbar\":{\"title\":{\"text\":\"Sentiment\"}},\"colorscale\":[[0.0,\"#0d0887\"],[0.1111111111111111,\"#46039f\"],[0.2222222222222222,\"#7201a8\"],[0.3333333333333333,\"#9c179e\"],[0.4444444444444444,\"#bd3786\"],[0.5555555555555556,\"#d8576b\"],[0.6666666666666666,\"#ed7953\"],[0.7777777777777778,\"#fb9f3a\"],[0.8888888888888888,\"#fdca26\"],[1.0,\"#f0f921\"]]},\"legend\":{\"tracegroupgap\":0,\"title\":{\"text\":\"Sentiment\"}},\"margin\":{\"t\":60},\"barmode\":\"group\",\"title\":{\"text\":\"Sentiment vs Review Count\"}},                        {\"responsive\": true}                    ).then(function(){\n",
       "                            \n",
       "var gd = document.getElementById('e6546ef7-12a8-47af-8642-dc9832f02425');\n",
       "var x = new MutationObserver(function (mutations, observer) {{\n",
       "        var display = window.getComputedStyle(gd).display;\n",
       "        if (!display || display === 'none') {{\n",
       "            console.log([gd, 'removed!']);\n",
       "            Plotly.purge(gd);\n",
       "            observer.disconnect();\n",
       "        }}\n",
       "}});\n",
       "\n",
       "// Listen for the removal of the full notebook cells\n",
       "var notebookContainer = gd.closest('#notebook-container');\n",
       "if (notebookContainer) {{\n",
       "    x.observe(notebookContainer, {childList: true});\n",
       "}}\n",
       "\n",
       "// Listen for the clearing of the current output cell\n",
       "var outputEl = gd.closest('.output');\n",
       "if (outputEl) {{\n",
       "    x.observe(outputEl, {childList: true});\n",
       "}}\n",
       "\n",
       "                        })                };                });            </script>        </div>"
      ]
     },
     "metadata": {},
     "output_type": "display_data"
    }
   ],
   "source": [
    "# using random forest model predict for best selling product based on review\n",
    "\n",
    "\n",
    "import pandas as pd\n",
    "import nltk\n",
    "import plotly.express as px\n",
    "from nltk.sentiment.vader import SentimentIntensityAnalyzer\n",
    "from textblob import TextBlob\n",
    "nltk.download('vader_lexicon')\n",
    "nltk.download('stopwords')\n",
    "from nltk.corpus import stopwords\n",
    "from nltk.stem import PorterStemmer\n",
    "from nltk.tokenize import word_tokenize\n",
    "import re\n",
    "\n",
    "from sklearn.model_selection import train_test_split\n",
    "from sklearn.ensemble import RandomForestClassifier\n",
    "from sklearn.metrics import accuracy_score\n",
    "\n",
    "import matplotlib.pyplot as plt\n",
    "import seaborn as sns\n",
    "import plotly.express as px\n",
    "\n",
    "\n",
    "\n",
    "# Load the dataset\n",
    "df = pd.read_csv(r\"C:\\Users\\nh013\\Desktop\\flipkart.csv\\Dataset-SA.csv\")\n",
    "\n",
    "# Remove any rows with missing values\n",
    "df.dropna(inplace=True)\n",
    "\n",
    "# Remove any duplicate rows\n",
    "df.drop_duplicates(inplace=True)\n",
    "\n",
    "# Remove any URLs\n",
    "df['Review'] = df['Review'].apply(lambda x: re.sub(r'http\\S+', '', x))\n",
    "\n",
    "# Remove any special characters\n",
    "df['Review'] = df['Review'].apply(lambda x: re.sub(r'[^\\w\\s]', '', x))\n",
    "\n",
    "# Convert all text to lowercase\n",
    "df['Review'] = df['Review'].apply(lambda x: x.lower())\n",
    "\n",
    "# Remove stop words\n",
    "stop_words = set(stopwords.words('english'))\n",
    "df['Review'] = df['Review'].apply(lambda x: ' '.join([word for word in x.split() if word not in stop_words]))\n",
    "\n",
    "# Apply stemming\n",
    "stemmer = PorterStemmer()\n",
    "df['Review'] = df['Review'].apply(lambda x: ' '.join([stemmer.stem(word) for word in x.split()]))\n",
    "\n",
    "# Assign labels to sentiments (positive = 1, negative = 0)\n",
    "df['Sentiment'] = df['Sentiment'].apply(lambda x: 1 if x == 'Positive' else 0)\n",
    "\n",
    "# Add sentiment polarity scores using VADER\n",
    "sid = SentimentIntensityAnalyzer()\n",
    "df['Sentiment_Polarity'] = df['Review'].apply(lambda x: sid.polarity_scores(x)['compound'])\n",
    "\n",
    "# Get the top 50 products based on the number of reviews\n",
    "top_products = df.groupby('product_name').size().nlargest(50).index.tolist()\n",
    "\n",
    "# Create a new dataframe with only the top products\n",
    "df_top_products = df[df['product_name'].isin(top_products)]\n",
    "\n",
    "# Shuffle the rows of the dataframe\n",
    "df_top_products = df_top_products.sample(frac=1).reset_index(drop=True)\n",
    "\n",
    "# Convert the product_price column to numeric and replace NaN values with mean\n",
    "df_top_products['product_price'] = pd.to_numeric(df_top_products['product_price'], errors='coerce')\n",
    "mean_price = df_top_products['product_price'].mean()\n",
    "df_top_products['product_price'].fillna(mean_price, inplace=True)\n",
    "\n",
    "# Convert the Rate column to numeric and replace NaN values with mean\n",
    "df_top_products['Rate'] = pd.to_numeric(df_top_products['Rate'], errors='coerce')\n",
    "mean_rate = df_top_products['Rate'].mean()\n",
    "df_top_products['Rate'].fillna(mean_rate, inplace=True)\n",
    "\n",
    "# Compute the mean of the Rate column for each product\n",
    "average_rate = df_top_products.groupby('product_name')['Rate'].mean().reset_index()\n",
    "average_rate.rename(columns={'Rate': 'Average_Rate'}, inplace=True)\n",
    "\n",
    "# Merge the average_rate dataframe with the best_selling_product dataframe\n",
    "best_selling_product = df_top_products.groupby('product_name').agg({'product_price': 'mean', 'Sentiment': 'mean', 'Sentiment_Polarity': 'mean', 'Review': 'count'}).reset_index()\n",
    "best_selling_product.rename(columns={'Review': 'Review Count'}, inplace=True)\n",
    "best_selling_product.sort_values(by=['Review Count', 'Sentiment_Polarity', 'product_price'], ascending=False, inplace=True)\n",
    "best_selling_product = pd.merge(best_selling_product, average_rate, on='product_name')\n",
    "\n",
    "# Define a function to calculate the sentiment polarity of a review\n",
    "def get_sentiment_polarity(review):\n",
    "    blob = TextBlob(review)\n",
    "    return blob.sentiment.polarity\n",
    "\n",
    "# Apply the function to the Review column to get the sentiment polarity of each review\n",
    "df_top_products['Sentiment_Polarity'] = df_top_products['Review'].apply(get_sentiment_polarity)\n",
    "\n",
    "# Define X and y\n",
    "X = df_top_products[['product_price', 'Sentiment', 'Sentiment_Polarity']]\n",
    "y = df_top_products['product_name']\n",
    "\n",
    "# Split the data into training and testing sets\n",
    "X_train, X_test, y_train, y_test = train_test_split(X, y, test_size=0.2, random_state=42)\n",
    "\n",
    "# Create a Random Forest classifier\n",
    "rf = RandomForestClassifier(n_estimators=100, random_state=42)\n",
    "\n",
    "# Train the classifier\n",
    "rf.fit(X_train, y_train)\n",
    "\n",
    "# Make predictions on the test set\n",
    "y_pred = rf.predict(X_test)\n",
    "\n",
    "# Evaluate the performance of the model\n",
    "accuracy = accuracy_score(y_test, y_pred)\n",
    "print(\"Accuracy:\", accuracy)\n",
    "\n",
    "\n",
    "# Print the resulting dataframes\n",
    "print(best_selling_product.head())\n",
    "print(df_top_products)\n",
    "\n",
    "# Create a bar plot\n",
    "fig = px.bar(best_selling_product, x='product_name', y='Review Count', color='Sentiment', barmode='group')\n",
    "\n",
    "# Update the layout\n",
    "fig.update_layout(\n",
    "    title='Sentiment vs Review Count',\n",
    "    xaxis_title='Product Name',\n",
    "    yaxis_title='Review Count',\n",
    "    legend_title='Sentiment'\n",
    ")\n",
    "\n",
    "# Show the plot\n",
    "fig.show()"
   ]
  },
  {
   "cell_type": "code",
   "execution_count": null,
   "id": "f160df67",
   "metadata": {},
   "outputs": [],
   "source": []
  }
 ],
 "metadata": {
  "kernelspec": {
   "display_name": "Python 3 (ipykernel)",
   "language": "python",
   "name": "python3"
  },
  "language_info": {
   "codemirror_mode": {
    "name": "ipython",
    "version": 3
   },
   "file_extension": ".py",
   "mimetype": "text/x-python",
   "name": "python",
   "nbconvert_exporter": "python",
   "pygments_lexer": "ipython3",
   "version": "3.9.13"
  }
 },
 "nbformat": 4,
 "nbformat_minor": 5
}
